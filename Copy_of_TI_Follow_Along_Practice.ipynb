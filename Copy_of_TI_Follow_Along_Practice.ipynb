{
  "nbformat": 4,
  "nbformat_minor": 0,
  "metadata": {
    "kernelspec": {
      "display_name": "Python 3",
      "language": "python",
      "name": "python3"
    },
    "language_info": {
      "codemirror_mode": {
        "name": "ipython",
        "version": 3
      },
      "file_extension": ".py",
      "mimetype": "text/x-python",
      "name": "python",
      "nbconvert_exporter": "python",
      "pygments_lexer": "ipython3",
      "version": "3.7.4"
    },
    "colab": {
      "name": "Copy of TI Follow Along Practice.ipynb",
      "provenance": [],
      "collapsed_sections": [],
      "include_colab_link": true
    }
  },
  "cells": [
    {
      "cell_type": "markdown",
      "metadata": {
        "id": "view-in-github",
        "colab_type": "text"
      },
      "source": [
        "<a href=\"https://colab.research.google.com/github/hector323/Complete-Python-3-Bootcamp/blob/master/Copy_of_TI_Follow_Along_Practice.ipynb\" target=\"_parent\"><img src=\"https://colab.research.google.com/assets/colab-badge.svg\" alt=\"Open In Colab\"/></a>"
      ]
    },
    {
      "cell_type": "markdown",
      "metadata": {
        "id": "yfZ5xzJ_XM2Q",
        "colab_type": "text"
      },
      "source": [
        "# Galvanize DSI Technical Interview Coding Prep\n",
        "* this notebook follows along with the video playlist at https://www.youtube.com/playlist?list=PL5T50pwCrPUofHFV-PuAD6av4uEteuara\n",
        "* Big Thank You to Les Rodriguez (https://github.com/Lesunknown) for putting this together!"
      ]
    },
    {
      "cell_type": "markdown",
      "metadata": {
        "id": "9r6Gre3MGRPb",
        "colab_type": "text"
      },
      "source": [
        "## Parallel List\n"
      ]
    },
    {
      "cell_type": "code",
      "metadata": {
        "id": "ivkGbJkdGRPe",
        "colab_type": "code",
        "outputId": "60b8e31d-65b4-4c10-cee8-828e9b4f0649",
        "colab": {}
      },
      "source": [
        "x = [1,2,3,4,5,6]\n",
        "y = ['a','b','c','d','e','f']\n",
        "\n",
        "print(x[0], y[0])"
      ],
      "execution_count": 0,
      "outputs": [
        {
          "output_type": "stream",
          "text": [
            "1 a\n"
          ],
          "name": "stdout"
        }
      ]
    },
    {
      "cell_type": "markdown",
      "metadata": {
        "id": "GZ0DnRiKGRPj",
        "colab_type": "text"
      },
      "source": [
        "#### instead of making them like above, lets make a function that will return 2 list, parallel list. \n",
        "Returning the number value of the alphabet list\n"
      ]
    },
    {
      "cell_type": "code",
      "metadata": {
        "id": "8DwRFIctGRPk",
        "colab_type": "code",
        "outputId": "9d82a19c-c172-404c-ab33-d83560f04286",
        "colab": {}
      },
      "source": [
        "def number_alpha():\n",
        "    alpha = list('abcdefghijklmnopqrstuvwxyz')\n",
        "    alpha2 = []\n",
        "    nums = []\n",
        "    \n",
        "    for num, let in enumerate(alpha, 1):\n",
        "        alpha2.append(let)\n",
        "        nums.append(num)\n",
        "    return alpha2, nums\n",
        "\n",
        "print(number_alpha())\n",
        "print(type(number_alpha()))\n",
        "        \n",
        "        \n",
        "    "
      ],
      "execution_count": 0,
      "outputs": [
        {
          "output_type": "stream",
          "text": [
            "(['a', 'b', 'c', 'd', 'e', 'f', 'g', 'h', 'i', 'j', 'k', 'l', 'm', 'n', 'o', 'p', 'q', 'r', 's', 't', 'u', 'v', 'w', 'x', 'y', 'z'], [1, 2, 3, 4, 5, 6, 7, 8, 9, 10, 11, 12, 13, 14, 15, 16, 17, 18, 19, 20, 21, 22, 23, 24, 25, 26])\n",
            "<class 'tuple'>\n"
          ],
          "name": "stdout"
        }
      ]
    },
    {
      "cell_type": "code",
      "metadata": {
        "id": "BMplwmoAGRPp",
        "colab_type": "code",
        "outputId": "3a444d2e-bbfe-4437-d547-82a9ca1bb2d6",
        "colab": {}
      },
      "source": [
        "\n",
        " ## creating a relationed position with the alphabet.\n",
        "    \n",
        "def number_alpha():\n",
        "    alpha = list('abcdefghijklmnopqrstuvwxyz')\n",
        "    alpha2 = []\n",
        "    nums = []\n",
        "    \n",
        "    for num, let in enumerate(alpha, 1):\n",
        "        alpha2.append(let)\n",
        "        nums.append(num)\n",
        "    return alpha2, nums\n",
        "\n",
        "alpha, nums = number_alpha()\n",
        "\n",
        "print(alpha)\n",
        "print(nums)"
      ],
      "execution_count": 0,
      "outputs": [
        {
          "output_type": "stream",
          "text": [
            "['a', 'b', 'c', 'd', 'e', 'f', 'g', 'h', 'i', 'j', 'k', 'l', 'm', 'n', 'o', 'p', 'q', 'r', 's', 't', 'u', 'v', 'w', 'x', 'y', 'z']\n",
            "[1, 2, 3, 4, 5, 6, 7, 8, 9, 10, 11, 12, 13, 14, 15, 16, 17, 18, 19, 20, 21, 22, 23, 24, 25, 26]\n"
          ],
          "name": "stdout"
        }
      ]
    },
    {
      "cell_type": "code",
      "metadata": {
        "id": "uzMfFYvpGRPv",
        "colab_type": "code",
        "outputId": "8946605a-a683-4bb1-d584-12b41ce26efa",
        "colab": {}
      },
      "source": [
        "\n",
        " ## creating a relationed position with the alphabet, that is more readable than above. \n",
        "    \n",
        "\n",
        "    \n",
        "def number_alpha():\n",
        "    alpha = list('abcdefghijklmnopqrstuvwxyz')\n",
        "    alpha2 = []\n",
        "    nums = []\n",
        "    \n",
        "    for num, let in enumerate(alpha, 1):\n",
        "        alpha2.append(let)\n",
        "        nums.append(num)\n",
        "    return alpha2, nums\n",
        "\n",
        "alpha, nums = number_alpha() \n",
        "\n",
        "## can this unpacking be used to do the recursive count or sum of digits assigning them as key: value pairs\n",
        "\n",
        "for i in range(len(alpha)):\n",
        "    print(alpha[i],nums[i])"
      ],
      "execution_count": 0,
      "outputs": [
        {
          "output_type": "stream",
          "text": [
            "a 1\n",
            "b 2\n",
            "c 3\n",
            "d 4\n",
            "e 5\n",
            "f 6\n",
            "g 7\n",
            "h 8\n",
            "i 9\n",
            "j 10\n",
            "k 11\n",
            "l 12\n",
            "m 13\n",
            "n 14\n",
            "o 15\n",
            "p 16\n",
            "q 17\n",
            "r 18\n",
            "s 19\n",
            "t 20\n",
            "u 21\n",
            "v 22\n",
            "w 23\n",
            "x 24\n",
            "y 25\n",
            "z 26\n"
          ],
          "name": "stdout"
        }
      ]
    },
    {
      "cell_type": "code",
      "metadata": {
        "id": "vB7dRmBcGRPy",
        "colab_type": "code",
        "outputId": "10a8ceee-b87d-4dce-b5b9-27656eeec602",
        "colab": {}
      },
      "source": [
        "\n",
        " ## refactoring to turn it into dictionary list.\n",
        "    \n",
        "\n",
        "    \n",
        "def number_alpha():\n",
        "    alpha = list('abcdefghijklmnopqrstuvwxyz')\n",
        "    d = dict()\n",
        "    \n",
        "    for num, let in enumerate(alpha, 1):\n",
        "        d[let] = num # d[key] = value\n",
        "    return d\n",
        "\n",
        "d = number_alpha() \n",
        "\n",
        "print(number_alpha())\n",
        "\n",
        "## can this unpacking be used to do the recursive count or sum of digits assigning them as key: value pairs\n",
        "\n",
        "# for i in range(len(alpha)):\n",
        "#     print(alpha[i],nums[i])"
      ],
      "execution_count": 0,
      "outputs": [
        {
          "output_type": "stream",
          "text": [
            "{'a': 1, 'b': 2, 'c': 3, 'd': 4, 'e': 5, 'f': 6, 'g': 7, 'h': 8, 'i': 9, 'j': 10, 'k': 11, 'l': 12, 'm': 13, 'n': 14, 'o': 15, 'p': 16, 'q': 17, 'r': 18, 's': 19, 't': 20, 'u': 21, 'v': 22, 'w': 23, 'x': 24, 'y': 25, 'z': 26}\n"
          ],
          "name": "stdout"
        }
      ]
    },
    {
      "cell_type": "markdown",
      "metadata": {
        "id": "y5Eq3L_GGRP4",
        "colab_type": "text"
      },
      "source": [
        "# Binary \n",
        "Good to embrace this idea because it can be implemented from a stats perspective, binomial distribution."
      ]
    },
    {
      "cell_type": "code",
      "metadata": {
        "id": "7c-KmL8sGRP6",
        "colab_type": "code",
        "outputId": "e0623d50-a0ea-4f01-9e3d-3a369c5d116b",
        "colab": {}
      },
      "source": [
        "#create the a 4 bit binary\n",
        "def create_4_bit_binary():\n",
        "    bin_list = []\n",
        "    for i in range(2):\n",
        "        for j in range(2):\n",
        "            for k in range(2):\n",
        "                for l in range(2):\n",
        "                    bin_list.append([i,j,k,l])\n",
        "    return bin_list #this bin_list is not the same as the next variable becuase it takes place outside it'scope. \n",
        "\n",
        "bin_list = create_4_bit_binary()\n",
        "\n",
        "#Analyze the binary\n",
        "#analyze the list through the lens of it's numeric value.\n",
        "# Tovio reuses names of list even to avoid having to recreate names especially when they are out of eithers call space.\n",
        "\n",
        "def binary_dec_dict(bin_list):\n",
        "    d={}\n",
        "    \n",
        "    for dec, binary in enumerate(bin_list):\n",
        "        d[dec] = binary\n",
        "        \n",
        "    return d\n",
        "\n",
        "bin_d = binary_dec_dict(bin_list)\n",
        "\n",
        "for k, v in bin_d.items():\n",
        "    print(f'{k}:\\t{v}')\n",
        "        "
      ],
      "execution_count": 0,
      "outputs": [
        {
          "output_type": "stream",
          "text": [
            "0:\t[0, 0, 0, 0]\n",
            "1:\t[0, 0, 0, 1]\n",
            "2:\t[0, 0, 1, 0]\n",
            "3:\t[0, 0, 1, 1]\n",
            "4:\t[0, 1, 0, 0]\n",
            "5:\t[0, 1, 0, 1]\n",
            "6:\t[0, 1, 1, 0]\n",
            "7:\t[0, 1, 1, 1]\n",
            "8:\t[1, 0, 0, 0]\n",
            "9:\t[1, 0, 0, 1]\n",
            "10:\t[1, 0, 1, 0]\n",
            "11:\t[1, 0, 1, 1]\n",
            "12:\t[1, 1, 0, 0]\n",
            "13:\t[1, 1, 0, 1]\n",
            "14:\t[1, 1, 1, 0]\n",
            "15:\t[1, 1, 1, 1]\n"
          ],
          "name": "stdout"
        }
      ]
    },
    {
      "cell_type": "code",
      "metadata": {
        "id": "OE-y7mgWGRP9",
        "colab_type": "code",
        "outputId": "f7cf5193-2dd5-4668-87f4-d59aaa47ab49",
        "colab": {}
      },
      "source": [
        "#maybe instead we want to analyze the number of occurence in the bit 1. \n",
        "def bin_dict(bin_list):\n",
        "    d = {}\n",
        "    \n",
        "    for binary in bin_list:\n",
        "        sum_ = sum(binary)\n",
        "        if sum_ not in d:\n",
        "            d[sum_] = 0\n",
        "        d[sum_] += 1\n",
        "    return d\n",
        "\n",
        "bin_d = bin_dict(bin_list)\n",
        "\n",
        "for k, v in bin_d.items():\n",
        "    print(f'{k}:\\t{\"+\"*v}')"
      ],
      "execution_count": 0,
      "outputs": [
        {
          "output_type": "stream",
          "text": [
            "0:\t+\n",
            "1:\t++++\n",
            "2:\t++++++\n",
            "3:\t++++\n",
            "4:\t+\n"
          ],
          "name": "stdout"
        }
      ]
    },
    {
      "cell_type": "code",
      "metadata": {
        "id": "CS4N3b0jGRQA",
        "colab_type": "code",
        "outputId": "a060569a-b53e-4c12-c16a-1e313ad2ec1e",
        "colab": {}
      },
      "source": [
        "#synthesizing binary\n",
        "# a binomial distribution is a series of bernoulli trials. a bernoulli trial is a \"coin flip\".\n",
        "\n",
        "from random import choice\n",
        "\n",
        "def create_binary_list(length):\n",
        "    seq = [0,1]\n",
        "    bin_list = []\n",
        "    \n",
        "    for _ in range(length):\n",
        "        bin_list.append(choice(seq))\n",
        "    return bin_list\n",
        "\n",
        "print(create_binary_list(4))\n",
        "\n",
        "def binary_samples(num_samples=16, length=4):\n",
        "    bin_samps = []\n",
        "    \n",
        "    for _ in range(num_samples):\n",
        "        bin_samps.append(create_binary_list(length))\n",
        "    return bin_samps\n",
        "\n",
        "bin_list = binary_samples(num_samples=1000, length=8)\n",
        "\n",
        "def bin_dict(bin_list):\n",
        "    d = {}\n",
        "    \n",
        "    for binary in bin_list:\n",
        "        sum_ = sum(binary)\n",
        "        \n",
        "        if sum_ not in d:\n",
        "            d[sum_] = 0\n",
        "        d[sum_] += 1\n",
        "    \n",
        "    return d\n",
        "\n",
        "bin_d = bin_dict(bin_list)\n",
        "\n",
        "for k, v in sorted(bin_d.items()):\n",
        "    print(f'{k}:\\t{v}')"
      ],
      "execution_count": 0,
      "outputs": [
        {
          "output_type": "stream",
          "text": [
            "[0, 1, 1, 1]\n",
            "0:\t3\n",
            "1:\t27\n",
            "2:\t100\n",
            "3:\t194\n",
            "4:\t293\n",
            "5:\t247\n",
            "6:\t98\n",
            "7:\t35\n",
            "8:\t3\n"
          ],
          "name": "stdout"
        }
      ]
    },
    {
      "cell_type": "code",
      "metadata": {
        "id": "HYsLKiNXGRQE",
        "colab_type": "code",
        "outputId": "7dc4d557-39ae-400b-e9cb-3adceae336bf",
        "colab": {}
      },
      "source": [
        "#synthsize results of a polynomial function\n",
        "def fourth_order_polynomial(x, a, b, c, d, intercept):\n",
        "    return a*x**4 + b*x**3 + c*x**2 + d*x + intercept\n",
        "print(fourth_order_polynomial(2,5,3,.3,5,.5))\n",
        "\n",
        "\n",
        "#Analysis\n",
        "def polyn_d(low_x, high_x, a, b, c, d, intercept):\n",
        "    dct = {}\n",
        "    \n",
        "    for x in range(low_x, high_x+1):\n",
        "        y = fourth_order_polynomial(x, a, b, c, d, intercept)\n",
        "        dct[x] = y\n",
        "    return dct  \n",
        "    \n",
        "polyn = polyn_d(-10,10,.5,.7,1.5,2,5)\n",
        "\n",
        "for k, v in sorted(polyn.items()):\n",
        "    print(f'{k}:{v}')"
      ],
      "execution_count": 0,
      "outputs": [
        {
          "output_type": "stream",
          "text": [
            "115.7\n",
            "-10:4435.0\n",
            "-9:2878.7\n",
            "-8:1774.6\n",
            "-7:1024.9\n",
            "-6:543.8\n",
            "-5:257.5\n",
            "-4:104.2\n",
            "-3:34.1\n",
            "-2:9.4\n",
            "-1:4.3\n",
            "0:5.0\n",
            "1:9.7\n",
            "2:28.6\n",
            "3:83.9\n",
            "4:209.8\n",
            "5:452.5\n",
            "6:870.2\n",
            "7:1533.1\n",
            "8:2523.4\n",
            "9:3935.3\n",
            "10:5875.0\n"
          ],
          "name": "stdout"
        }
      ]
    },
    {
      "cell_type": "code",
      "metadata": {
        "id": "LKef-6OoGRQL",
        "colab_type": "code",
        "outputId": "c044d358-5567-484f-b75d-aaf3b1939b9b",
        "colab": {}
      },
      "source": [
        "#synthsize results of a sigmoid function\n",
        "from math import e\n",
        "\n",
        "def sigmoid(x):\n",
        "    return 1 / (1 + e**(-x))\n",
        "\n",
        "#analysis\n",
        "\n",
        "def sig_dict(low_x, high_x):\n",
        "    d = {}\n",
        "    \n",
        "    for x in range(low_x, high_x+1):\n",
        "        d[x] = sigmoid(x)\n",
        "    return d\n",
        "\n",
        "sig_dict = sig_dict(-10,10)\n",
        "\n",
        "# for k, v in sig_dict.items():\n",
        "#     print(f'{k}:{v}')\n",
        "\n",
        "def thres_sigmoid(sig_dict, thresh=0.5):\n",
        "    d = {}\n",
        "    \n",
        "    for k, v in sig_dict.items():\n",
        "        if v > thresh:\n",
        "            d[k] = 1\n",
        "        else:\n",
        "            d[k] = 0\n",
        "    return d\n",
        "\n",
        "thresh_dict = thres_sigmoid(sig_dict, thresh = 0.99)\n",
        "\n",
        "def sigmoid_counts(thresh_dict):\n",
        "    d = {}\n",
        "    \n",
        "    for k, v in thresh_dict.items():\n",
        "        if v not in d:\n",
        "            d[v] = []\n",
        "        d[v].append(k)\n",
        "    return d\n",
        "\n",
        "for k, v in sigmoid_counts(thresh_dict).items():\n",
        "    print(f'{k}: {v}')\n",
        "    "
      ],
      "execution_count": 0,
      "outputs": [
        {
          "output_type": "stream",
          "text": [
            "0: [-10, -9, -8, -7, -6, -5, -4, -3, -2, -1, 0, 1, 2, 3, 4]\n",
            "1: [5, 6, 7, 8, 9, 10]\n"
          ],
          "name": "stdout"
        }
      ]
    },
    {
      "cell_type": "code",
      "metadata": {
        "id": "4s256iIbGRQO",
        "colab_type": "code",
        "outputId": "6253a460-bb1d-4a8e-e8f4-42e751b1a180",
        "colab": {}
      },
      "source": [
        "#synthesize poisson\n",
        "#door where 5 people walk through every \n",
        "#  10mins... E = 5 people every 10 minutes\n",
        "# what's the probability that 10 peple walk through \n",
        "# in 7 minutes?\n",
        "\n",
        "#blades of grass follows a poisson distribution, sand should follow a poisson distribution, number of stars in the sky..\n",
        "\n",
        "from math import e #whenever you see e there is expectation there is a natural distribution or phenonmon. \n",
        "\n",
        "def factorial(k):\n",
        "    fact = 1\n",
        "    for i in range(1,k+1):\n",
        "        fact *= i\n",
        "    return fact\n",
        "\n",
        "def poisson(lamb, k):\n",
        "    return e**(-lamb) * lamb**k / factorial(k)\n",
        "\n",
        "print(poisson(10, 10))\n",
        "\n",
        "\n",
        "#analysis\n",
        "\n",
        "def poisson_dict(lamb, low_k, high_k):\n",
        "    d = {}\n",
        "    \n",
        "    for k in range(low_k, high_k):\n",
        "        d[k] = poisson(lamb, k)\n",
        "        \n",
        "    return d\n",
        "\n",
        "for k, v in poisson_dict(10, low_k=0, high_k=30).items():\n",
        "    print(f'{k}: {v}')\n",
        "    \n",
        "#what if you hold k constant and have a range for lambda?\n",
        "\n",
        "#how would you synthsize actual counts of events given theoritical probabilities?\n",
        "\n",
        "#given a sample of counts of occurrences (counts of numbers of successes) \n",
        "# how do you determine if the distribution of events follow poisson?"
      ],
      "execution_count": 0,
      "outputs": [
        {
          "output_type": "stream",
          "text": [
            "0.12511003572113336\n",
            "0: 4.5399929762484875e-05\n",
            "1: 0.00045399929762484877\n",
            "2: 0.0022699964881242435\n",
            "3: 0.007566654960414146\n",
            "4: 0.018916637401035365\n",
            "5: 0.03783327480207073\n",
            "6: 0.06305545800345122\n",
            "7: 0.09007922571921602\n",
            "8: 0.11259903214902002\n",
            "9: 0.12511003572113336\n",
            "10: 0.12511003572113336\n",
            "11: 0.11373639611012125\n",
            "12: 0.09478033009176769\n",
            "13: 0.07290794622443669\n",
            "14: 0.05207710444602621\n",
            "15: 0.034718069630684134\n",
            "16: 0.021698793519177587\n",
            "17: 0.01276399618775152\n",
            "18: 0.0070911089931952895\n",
            "19: 0.003732162627997521\n",
            "20: 0.0018660813139987603\n",
            "21: 0.0008886101495232192\n",
            "22: 0.00040391370432873606\n",
            "23: 0.00017561465405597216\n",
            "24: 7.317277252332174e-05\n",
            "25: 2.92691090093287e-05\n",
            "26: 1.1257349618972576e-05\n",
            "27: 4.169388747767621e-06\n",
            "28: 1.4890674099170073e-06\n",
            "29: 5.13471520661037e-07\n"
          ],
          "name": "stdout"
        }
      ]
    },
    {
      "cell_type": "code",
      "metadata": {
        "id": "ZXiEZDF8GRQQ",
        "colab_type": "code",
        "colab": {}
      },
      "source": [
        "# what if you hold"
      ],
      "execution_count": 0,
      "outputs": []
    }
  ]
}